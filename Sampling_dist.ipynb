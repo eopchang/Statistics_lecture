{
 "cells": [
  {
   "cell_type": "markdown",
   "metadata": {},
   "source": [
    "필요한 라이브러리 import"
   ]
  },
  {
   "cell_type": "code",
   "execution_count": 1,
   "metadata": {
    "collapsed": true
   },
   "outputs": [],
   "source": [
    "import numpy as np\n",
    "import scipy.stats as stat\n",
    "import matplotlib.pyplot as plt"
   ]
  },
  {
   "cell_type": "code",
   "execution_count": 60,
   "metadata": {
    "collapsed": true
   },
   "outputs": [],
   "source": [
    "n = 6 #1회의 실험에서의 데이터 갯수\n",
    "N = 10**5 #신의 입장에서 실험 반복 횟수"
   ]
  },
  {
   "cell_type": "code",
   "execution_count": 48,
   "metadata": {
    "collapsed": true
   },
   "outputs": [],
   "source": [
    "a, b =1,500"
   ]
  },
  {
   "cell_type": "code",
   "execution_count": 55,
   "metadata": {
    "collapsed": false
   },
   "outputs": [
    {
     "name": "stdout",
     "output_type": "stream",
     "text": [
      "Theoretically:\n",
      " Mean:0.001996007984031936 Variance:3.968175171632703e-06\n"
     ]
    }
   ],
   "source": [
    "mean, var = stat.beta.stats(a,b)\n",
    "print(\"Theoretically:\\n\", \"Mean:\" + str(mean),  \"Variance:\" +str(var))"
   ]
  },
  {
   "cell_type": "markdown",
   "metadata": {},
   "source": [
    "분포 모양 보여주기"
   ]
  },
  {
   "cell_type": "code",
   "execution_count": 56,
   "metadata": {
    "collapsed": false,
    "scrolled": true
   },
   "outputs": [
    {
     "data": {
      "image/png": "[encoded data removed]",
      "text/plain": [
       "<matplotlib.figure.Figure at 0x112f0ada0>"
      ]
     },
     "metadata": {},
     "output_type": "display_data"
    }
   ],
   "source": [
    "x = np.linspace(stat.beta.ppf(0.01, a, b), stat.beta.ppf(0.99, a, b),100)\n",
    "plt.plot(x, stat.beta.pdf(x,a,b), 'k-')\n",
    "plt.title('Beta('+ str(a)+','+str(b)+')')\n",
    "plt.show()"
   ]
  },
  {
   "cell_type": "markdown",
   "metadata": {},
   "source": [
    "현실세상의 1회 실험 (n개의 데이터를 1회 샘플링) "
   ]
  },
  {
   "cell_type": "code",
   "execution_count": 61,
   "metadata": {
    "collapsed": false,
    "scrolled": true
   },
   "outputs": [
    {
     "name": "stdout",
     "output_type": "stream",
     "text": [
      "From Sample_1:\n",
      " Mean:0.00193888292156 Variance:4.7311357029e-06\n"
     ]
    },
    {
     "data": {
      "image/png": "[encoded data removed]",
      "text/plain": [
       "<matplotlib.figure.Figure at 0x11308f4a8>"
      ]
     },
     "metadata": {},
     "output_type": "display_data"
    }
   ],
   "source": [
    "sample_data = np.random.beta(a,b,n)\n",
    "print(\"From Sample_1:\\n\", \"Mean:\" + str(np.mean(sample_data)),  \"Variance:\" +str(np.var(sample_data)))\n",
    "\n",
    "\n",
    "plt.hist(sample_data, normed = True)\n",
    "plt.title('Sample data from Beta('+ str(a)+','+str(b)+')'+' n='+str(n))\n",
    "plt.show()"
   ]
  },
  {
   "cell_type": "markdown",
   "metadata": {},
   "source": [
    "Sampling dist. 생성"
   ]
  },
  {
   "cell_type": "code",
   "execution_count": 62,
   "metadata": {
    "collapsed": false
   },
   "outputs": [
    {
     "name": "stderr",
     "output_type": "stream",
     "text": [
      "/Users/Chang-Eop/anaconda/lib/python3.6/site-packages/ipykernel/__main__.py:5: MatplotlibDeprecationWarning: pyplot.hold is deprecated.\n",
      "    Future behavior will be consistent with the long-time default:\n",
      "    plot commands add elements without first clearing the\n",
      "    Axes and/or Figure.\n",
      "/Users/Chang-Eop/anaconda/lib/python3.6/site-packages/matplotlib/__init__.py:917: UserWarning: axes.hold is deprecated. Please remove it from your matplotlibrc and/or style files.\n",
      "  warnings.warn(self.msg_depr_set % key)\n",
      "/Users/Chang-Eop/anaconda/lib/python3.6/site-packages/matplotlib/rcsetup.py:152: UserWarning: axes.hold is deprecated, will be removed in 3.0\n",
      "  warnings.warn(\"axes.hold is deprecated, will be removed in 3.0\")\n"
     ]
    },
    {
     "name": "stdout",
     "output_type": "stream",
     "text": [
      "From Sampling Dist:\n",
      " Mean:0.00199840622125 Variance:6.61556295993e-07\n"
     ]
    },
    {
     "data": {
      "image/png": "[encoded data removed]",
      "text/plain": [
       "<matplotlib.figure.Figure at 0x114c3df98>"
      ]
     },
     "metadata": {},
     "output_type": "display_data"
    }
   ],
   "source": [
    "data4show = np.random.beta(a,b,10**5)\n",
    "\n",
    "plt.hist(data4show, bins = 50, normed = True)\n",
    "plt.title('Beta('+ str(a)+','+str(b)+')')\n",
    "plt.hold(True)\n",
    "\n",
    "\n",
    "data_per_Exps = np.random.beta(a,b, n*N).reshape(N,n) #1행: 1회 실험 결과(현실), N행: 신의 입장에서 N회 실험 반복\n",
    "sample_means = np.mean(data_per_Exps, axis = 1) #sampling means\n",
    "print(\"From Sampling Dist:\\n\", \"Mean:\" + str(np.mean(sample_means)),  \"Variance:\" +str(np.var(sample_means)))\n",
    "\n",
    "\n",
    "plt.hist(sample_means, bins = 500, normed = True)\n",
    "plt.show()\n"
   ]
  },
  {
   "cell_type": "markdown",
   "metadata": {},
   "source": [
    "CLT\n"
   ]
  },
  {
   "cell_type": "code",
   "execution_count": 63,
   "metadata": {
    "collapsed": false
   },
   "outputs": [
    {
     "name": "stderr",
     "output_type": "stream",
     "text": [
      "/Users/Chang-Eop/anaconda/lib/python3.6/site-packages/ipykernel/__main__.py:3: MatplotlibDeprecationWarning: pyplot.hold is deprecated.\n",
      "    Future behavior will be consistent with the long-time default:\n",
      "    plot commands add elements without first clearing the\n",
      "    Axes and/or Figure.\n",
      "  app.launch_new_instance()\n",
      "/Users/Chang-Eop/anaconda/lib/python3.6/site-packages/matplotlib/__init__.py:917: UserWarning: axes.hold is deprecated. Please remove it from your matplotlibrc and/or style files.\n",
      "  warnings.warn(self.msg_depr_set % key)\n",
      "/Users/Chang-Eop/anaconda/lib/python3.6/site-packages/matplotlib/rcsetup.py:152: UserWarning: axes.hold is deprecated, will be removed in 3.0\n",
      "  warnings.warn(\"axes.hold is deprecated, will be removed in 3.0\")\n"
     ]
    },
    {
     "name": "stdout",
     "output_type": "stream",
     "text": [
      "From Sampling Dist:\n",
      " Mean:0.00199844893593 Variance:6.63165856149e-07\n"
     ]
    },
    {
     "data": {
      "image/png": "[encoded data removed]",
      "text/plain": [
       "<matplotlib.figure.Figure at 0x11529b630>"
      ]
     },
     "metadata": {},
     "output_type": "display_data"
    }
   ],
   "source": [
    "plt.hist(data4show, bins = 50, normed = True)\n",
    "plt.title('Beta('+ str(a)+','+str(b)+')')\n",
    "plt.hold(True)\n",
    "\n",
    "\n",
    "data_per_Exps = np.random.beta(a,b, n*N).reshape(N,n) #1행: 1회 실험 결과(현실), N행: 신의 입장에서 N회 실험 반복\n",
    "sample_means = np.mean(data_per_Exps, axis = 1) #sampling means\n",
    "print(\"From Sampling Dist:\\n\", \"Mean:\" + str(np.mean(sample_means)),  \"Variance:\" +str(np.var(sample_means)))\n",
    "\n",
    "\n",
    "plt.hist(sample_means, bins = 500, normed = True)\n",
    "\n",
    "\n",
    "mu_normal = mean #beta 분포의 평균\n",
    "var_normal = var/n # beta 분포의 분산/n\n",
    "std_normal =np.sqrt(var_normal) #분산을 표준편차로 변환\n",
    "\n",
    "x = np.linspace(stat.norm.ppf(0.01, mu_normal, std_normal), stat.norm.ppf(0.99, mu_normal, std_normal),100)\n",
    "plt.plot(x, stat.norm.pdf(x, mu_normal, std_normal),'k-')\n",
    "plt.show()\n"
   ]
  },
  {
   "cell_type": "code",
   "execution_count": null,
   "metadata": {
    "collapsed": true
   },
   "outputs": [],
   "source": []
  }
 ],
 "metadata": {
  "celltoolbar": "Raw Cell Format",
  "kernelspec": {
   "display_name": "Python 3",
   "language": "python",
   "name": "python3"
  },
  "language_info": {
   "codemirror_mode": {
    "name": "ipython",
    "version": 3
   },
   "file_extension": ".py",
   "mimetype": "text/x-python",
   "name": "python",
   "nbconvert_exporter": "python",
   "pygments_lexer": "ipython3",
   "version": "3.6.0"
  }
 },
 "nbformat": 4,
 "nbformat_minor": 2
}
